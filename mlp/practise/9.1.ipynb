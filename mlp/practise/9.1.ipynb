{
 "cells": [
  {
   "cell_type": "code",
   "execution_count": 1,
   "id": "5f921e8e",
   "metadata": {},
   "outputs": [],
   "source": [
    "import pandas as pd\n",
    "import numpy as np\n",
    "from sklearn.pipeline import Pipeline\n",
    "from sklearn.compose import ColumnTransformer\n",
    "from sklearn.impute import SimpleImputer\n",
    "from sklearn.preprocessing import StandardScaler, OneHotEncoder\n",
    "from sklearn.ensemble import BaggingRegressor\n",
    "from sklearn.tree import DecisionTreeRegressor\n",
    "from sklearn.preprocessing import OrdinalEncoder\n",
    "from sklearn.model_selection import train_test_split\n",
    "from sklearn.metrics import r2_score\n",
    "from sklearn.model_selection import cross_val_score\n",
    "from sklearn.ensemble import RandomForestRegressor\n",
    "from sklearn.ensemble import GradientBoostingRegressor\n",
    "from sklearn.ensemble import AdaBoostRegressor\n",
    "from sklearn.ensemble import VotingRegressor\n",
    "from sklearn.linear_model import LinearRegression\n",
    "from sklearn.svm import SVR\n",
    "from sklearn.neighbors import KNeighborsRegressor"
   ]
  },
  {
   "cell_type": "code",
   "execution_count": 2,
   "id": "02490759",
   "metadata": {},
   "outputs": [],
   "source": [
    "column_names = ['mpg', 'cylinders','displacement', 'horsepower', 'weight', 'acceleration', 'model_year', 'origin', 'car_name']\n",
    "auto_mpg_data = pd.read_csv('https://archive.ics.uci.edu/ml/machine-learning-databases/auto-mpg/auto-mpg.data', delim_whitespace=True, header=None,names=column_names)\n",
    "auto_mpg_data['horsepower'].unique()\n",
    "auto_mpg_data = auto_mpg_data.drop('car_name', axis = 1)\n",
    "auto_mpg_data = auto_mpg_data.replace('?', -1)\n",
    "auto_mpg_data.horsepower = auto_mpg_data.horsepower.astype('float')"
   ]
  },
  {
   "cell_type": "code",
   "execution_count": 3,
   "id": "aae1a45e",
   "metadata": {},
   "outputs": [],
   "source": [
    "X = auto_mpg_data.iloc[:, 1:]\n",
    "y = auto_mpg_data.iloc[:, 0]\n",
    "X_train, X_test, y_train, y_test = train_test_split(X, y, test_size=0.2, random_state=0)\n",
    "numeric_features = ['displacement', 'horsepower', 'weight', 'acceleration']\n",
    "categorical_features = ['model_year', 'origin']\n",
    "ordinal_features = ['cylinders']"
   ]
  },
  {
   "cell_type": "code",
   "execution_count": 4,
   "id": "7ec266ad",
   "metadata": {},
   "outputs": [
    {
     "name": "stdout",
     "output_type": "stream",
     "text": [
      "0.7485216848317473\n"
     ]
    }
   ],
   "source": [
    "numeric_transformer = Pipeline(\n",
    "    steps=[(\"imputer\", SimpleImputer(missing_values = -1, strategy=\"mean\")), (\"scaler\", StandardScaler())]\n",
    ")\n",
    "categorical_transformer = OneHotEncoder(handle_unknown=\"ignore\")\n",
    "ordinal_transformer = OrdinalEncoder()\n",
    "preprocessor = ColumnTransformer(\n",
    "    transformers=[\n",
    "        (\"num\", numeric_transformer, numeric_features),\n",
    "        (\"cat\", categorical_transformer, categorical_features),\n",
    "        (\"ord\", ordinal_transformer, ordinal_features),\n",
    "    ]\n",
    ")\n",
    "reg = Pipeline(\n",
    "    steps=[(\"preprocessor\", preprocessor), (\"regressor\", BaggingRegressor())]\n",
    ")\n",
    "reg.fit(X_train, y_train)\n",
    "y_pred = reg.predict(X_test)\n",
    "print(r2_score(y_test, y_pred))"
   ]
  },
  {
   "cell_type": "code",
   "execution_count": 5,
   "id": "d54eae57",
   "metadata": {},
   "outputs": [],
   "source": [
    "r2 = cross_val_score(estimator = reg, X = X_train, y = y_train, scoring='r2', cv = 10)\n",
    "X_train_new = preprocessor.fit_transform(X_train)"
   ]
  },
  {
   "cell_type": "code",
   "execution_count": 6,
   "id": "69ff17d8",
   "metadata": {},
   "outputs": [
    {
     "name": "stdout",
     "output_type": "stream",
     "text": [
      "0.7925406483485963\n"
     ]
    }
   ],
   "source": [
    "RF_reg = Pipeline(\n",
    "    steps=[(\"preprocessor\", preprocessor), (\"regressor\", RandomForestRegressor())]\n",
    ")\n",
    "\n",
    "RF_reg.fit(X_train, y_train)\n",
    "y_pred = RF_reg.predict(X_test)\n",
    "print(r2_score(y_test, y_pred))"
   ]
  },
  {
   "cell_type": "code",
   "execution_count": 7,
   "id": "867f9e3a",
   "metadata": {},
   "outputs": [
    {
     "name": "stdout",
     "output_type": "stream",
     "text": [
      "0.8173538432105059\n"
     ]
    }
   ],
   "source": [
    "GB_reg = Pipeline(\n",
    "    steps=[(\"preprocessor\", preprocessor), (\"regressor\", GradientBoostingRegressor())]\n",
    ")\n",
    "\n",
    "GB_reg.fit(X_train, y_train)\n",
    "y_pred = GB_reg.predict(X_test)\n",
    "print(r2_score(y_test, y_pred))"
   ]
  },
  {
   "cell_type": "code",
   "execution_count": 8,
   "id": "b26aaec1",
   "metadata": {},
   "outputs": [
    {
     "name": "stdout",
     "output_type": "stream",
     "text": [
      "0.7249188825105819\n"
     ]
    }
   ],
   "source": [
    "AB_reg = Pipeline(\n",
    "    steps=[(\"preprocessor\", preprocessor), (\"regressor\", AdaBoostRegressor())]\n",
    ")\n",
    "\n",
    "AB_reg.fit(X_train, y_train)\n",
    "y_pred = AB_reg.predict(X_test)\n",
    "print(r2_score(y_test, y_pred))"
   ]
  },
  {
   "cell_type": "code",
   "execution_count": 9,
   "id": "a2ba83ac",
   "metadata": {},
   "outputs": [
    {
     "name": "stdout",
     "output_type": "stream",
     "text": [
      "0.8313415103683222\n"
     ]
    }
   ],
   "source": [
    "lr = LinearRegression()\n",
    "dt = DecisionTreeRegressor()\n",
    "svm= SVR()\n",
    "knn= KNeighborsRegressor()\n",
    "VR_reg = Pipeline(\n",
    "    steps=[(\"preprocessor\", preprocessor), (\"classifier\", VotingRegressor(estimators=[('lr', lr), ('dt', dt), ('svc', svm), ('knn',knn)]))]\n",
    ")\n",
    "\n",
    "VR_reg.fit(X_train, y_train)\n",
    "y_pred = VR_reg.predict(X_test)\n",
    "print(r2_score(y_test, y_pred))"
   ]
  }
 ],
 "metadata": {
  "kernelspec": {
   "display_name": "Python 3",
   "language": "python",
   "name": "python3"
  },
  "language_info": {
   "codemirror_mode": {
    "name": "ipython",
    "version": 3
   },
   "file_extension": ".py",
   "mimetype": "text/x-python",
   "name": "python",
   "nbconvert_exporter": "python",
   "pygments_lexer": "ipython3",
   "version": "3.8.8"
  }
 },
 "nbformat": 4,
 "nbformat_minor": 5
}
