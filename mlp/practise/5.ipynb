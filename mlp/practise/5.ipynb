{
 "cells": [
  {
   "cell_type": "code",
   "execution_count": 2,
   "id": "14ed28e0",
   "metadata": {},
   "outputs": [],
   "source": [
    "import numpy as np\n",
    "import pandas as pd\n",
    "import matplotlib.pyplot as plt\n",
    "import seaborn as sns\n",
    "\n",
    "from scipy.stats import loguniform\n",
    "from scipy.stats import uniform\n",
    "\n",
    "from sklearn.datasets import fetch_california_housing\n",
    "from sklearn.dummy import DummyRegressor\n",
    "from sklearn.linear_model import LinearRegression\n",
    "from sklearn.linear_model import Lasso\n",
    "from sklearn.linear_model import LassoCV\n",
    "from sklearn.linear_model import RidgeCV\n",
    "from sklearn.linear_model import Ridge\n",
    "from sklearn.linear_model import SGDRegressor\n",
    "from sklearn.metrics import mean_squared_error\n",
    "from sklearn.metrics import mean_absolute_error\n",
    "from sklearn.metrics import mean_absolute_percentage_error\n",
    "from sklearn.model_selection import cross_validate\n",
    "from sklearn.model_selection import cross_val_score\n",
    "from sklearn.model_selection import train_test_split\n",
    "from sklearn.model_selection import ShuffleSplit\n",
    "from sklearn.model_selection import validation_curve\n",
    "from sklearn.model_selection import GridSearchCV\n",
    "from sklearn.model_selection import RandomizedSearchCV\n",
    "from sklearn.preprocessing import PolynomialFeatures\n",
    "from sklearn.preprocessing import StandardScaler\n",
    "from sklearn.pipeline import Pipeline"
   ]
  },
  {
   "cell_type": "code",
   "execution_count": 3,
   "id": "752f9795",
   "metadata": {},
   "outputs": [],
   "source": [
    "np.random.seed(306)\n",
    "cv = ShuffleSplit(n_splits=10, test_size=0.2, random_state=42)"
   ]
  },
  {
   "cell_type": "code",
   "execution_count": 4,
   "id": "4d5b66cf",
   "metadata": {},
   "outputs": [],
   "source": [
    "#get the ds and split thrice ds-> feature+label\n",
    "#feature+label->trainfeature+trainlabel+testfeature+testlabel\n",
    "#trainfeature+trainlabel-> validationfeature+trainingfeature+validationlabel+traininglabel\n",
    "features, labels= fetch_california_housing(as_frame=True, return_X_y=True)\n",
    "training_features, test_features, training_labels, test_labels= train_test_split(\n",
    "    features, labels, random_state=42)\n",
    "train_features, dev_features, train_labels, dev_labels=train_test_split(\n",
    "    training_features, training_labels, random_state=42)"
   ]
  },
  {
   "cell_type": "code",
   "execution_count": 7,
   "id": "22e8fd00",
   "metadata": {},
   "outputs": [
    {
     "name": "stdout",
     "output_type": "stream",
     "text": [
      "Mean absolute error of linear regression model on the train set:\n",
      "0.530 +/- 0.002\n",
      "Mean absolute error of linear regression model on the test set:\n",
      "0.527 +/- 0.008\n"
     ]
    }
   ],
   "source": [
    "lin_reg_pipeline= Pipeline([(\"feature_scaling\", StandardScaler()),\n",
    "                           (\"lin_reg\", LinearRegression())])\n",
    "lin_reg_cv_results=cross_validate(lin_reg_pipeline,training_features,training_labels,\n",
    "                                 cv=cv,scoring=\"neg_mean_absolute_error\",\n",
    "                                 return_estimator=True,return_train_score=True)\n",
    "lin_reg_train_error=-1*lin_reg_cv_results['train_score']\n",
    "lin_reg_test_error=-1*lin_reg_cv_results['test_score']\n",
    "print(f\"Mean absolute error of linear regression model on the train set:\\n\"\n",
    "      f\"{lin_reg_train_error.mean():.3f} +/- {lin_reg_train_error.std():.3f}\")\n",
    "print(f\"Mean absolute error of linear regression model on the test set:\\n\"\n",
    "      f\"{lin_reg_test_error.mean():.3f} +/- {lin_reg_test_error.std():.3f}\")"
   ]
  },
  {
   "cell_type": "code",
   "execution_count": 10,
   "id": "a91366ec",
   "metadata": {},
   "outputs": [
    {
     "name": "stdout",
     "output_type": "stream",
     "text": [
      "Mean absolute error of SGD regression model on the train set:\n",
      "0.564 +/- 0.023\n",
      "Mean absolute error of SGD regression model on the test set:\n",
      "0.561 +/- 0.025\n"
     ]
    }
   ],
   "source": [
    "sgd_reg_pipeline = Pipeline([(\"feature_scaling\", StandardScaler()),\n",
    "                             (\"sgd_reg\", SGDRegressor(\n",
    "                                 max_iter=np.ceil(\n",
    "                                    1e6/training_features.shape[0]),\n",
    "                                 early_stopping=True,\n",
    "                                 eta0=1e-4,\n",
    "                                 learning_rate='constant',\n",
    "                                 tol=1e-5,\n",
    "                                 validation_fraction=0.1,\n",
    "                                 n_iter_no_change=5,\n",
    "                                 average=10,\n",
    "                                 random_state=42))])\n",
    "\n",
    "sgd_reg_cv_results = cross_validate(sgd_reg_pipeline,\n",
    "                                    training_features,\n",
    "                                    training_labels,\n",
    "                                    cv=cv,\n",
    "                                    scoring=\"neg_mean_absolute_error\",\n",
    "                                    return_train_score=True,\n",
    "                                    return_estimator=True)\n",
    "sgd_train_error = -1 * sgd_reg_cv_results['train_score']\n",
    "sgd_test_error = -1 * sgd_reg_cv_results['test_score']\n",
    "\n",
    "print(f\"Mean absolute error of SGD regression model on the train set:\\n\"\n",
    "      f\"{sgd_train_error.mean():.3f} +/- {sgd_train_error.std():.3f}\")\n",
    "print(f\"Mean absolute error of SGD regression model on the test set:\\n\"\n",
    "      f\"{sgd_test_error.mean():.3f} +/- {sgd_test_error.std():.3f}\")"
   ]
  },
  {
   "cell_type": "code",
   "execution_count": 12,
   "id": "c5e2f403",
   "metadata": {},
   "outputs": [
    {
     "name": "stdout",
     "output_type": "stream",
     "text": [
      "Mean absolute error of linear regression model on the train set:\n",
      "0.478 +/- 0.003\n",
      "Mean absolute error of linear regression model on the test set:\n",
      "0.497 +/- 0.024\n"
     ]
    }
   ],
   "source": [
    "poly_reg_pipeline = Pipeline([(\"poly\", PolynomialFeatures(degree=2, interaction_only=True)),\n",
    "                              (\"feature_scaling\", StandardScaler()),\n",
    "                              (\"lin_reg\", LinearRegression())])\n",
    "poly_reg_cv_results = cross_validate(poly_reg_pipeline,\n",
    "                                    training_features,\n",
    "                                    training_labels,\n",
    "                                    cv=cv,\n",
    "                                    scoring=\"neg_mean_absolute_error\",\n",
    "                                    return_train_score=True,\n",
    "                                    return_estimator=True)\n",
    "\n",
    "poly_reg_train_error = -1 * poly_reg_cv_results['train_score']\n",
    "poly_reg_test_error = -1 * poly_reg_cv_results['test_score']\n",
    "\n",
    "print(f\"Mean absolute error of linear regression model on the train set:\\n\"\n",
    "      f\"{poly_reg_train_error.mean():.3f} +/- {poly_reg_train_error.std():.3f}\")\n",
    "print(f\"Mean absolute error of linear regression model on the test set:\\n\"\n",
    "      f\"{poly_reg_test_error.mean():.3f} +/- {poly_reg_test_error.std():.3f}\")"
   ]
  },
  {
   "cell_type": "code",
   "execution_count": 13,
   "id": "a7fc8ef6",
   "metadata": {},
   "outputs": [
    {
     "name": "stdout",
     "output_type": "stream",
     "text": [
      "Mean absolute error of ridge regression model (alpha=0.5) on the train set:\n",
      "0.481 +/- 0.003\n",
      "Mean absolute error of ridge regression model (alpha=0.5) on the test set:\n",
      "0.487 +/- 0.006\n"
     ]
    }
   ],
   "source": [
    "ridge_reg_pipeline = Pipeline([(\"poly\", PolynomialFeatures(degree=2)),\n",
    "                              (\"feature_scaling\", StandardScaler()),\n",
    "                              (\"ridge\", Ridge(alpha=0.5))])\n",
    "ridge_reg_cv_results = cross_validate(ridge_reg_pipeline,\n",
    "                                    training_features,\n",
    "                                    training_labels,\n",
    "                                    cv=cv,\n",
    "                                    scoring=\"neg_mean_absolute_error\",\n",
    "                                    return_train_score=True,\n",
    "                                    return_estimator=True)\n",
    "\n",
    "ridge_reg_train_error = -1 * ridge_reg_cv_results['train_score']\n",
    "ridge_reg_test_error = -1 * ridge_reg_cv_results['test_score']\n",
    "\n",
    "print(f\"Mean absolute error of ridge regression model (alpha=0.5) on the train set:\\n\"\n",
    "      f\"{ridge_reg_train_error.mean():.3f} +/- {ridge_reg_train_error.std():.3f}\")\n",
    "print(f\"Mean absolute error of ridge regression model (alpha=0.5) on the test set:\\n\"\n",
    "      f\"{ridge_reg_test_error.mean():.3f} +/- {ridge_reg_test_error.std():.3f}\")"
   ]
  },
  {
   "cell_type": "code",
   "execution_count": 14,
   "id": "d72fdbeb",
   "metadata": {},
   "outputs": [
    {
     "name": "stdout",
     "output_type": "stream",
     "text": [
      "The best value for alpha: 0.007847599703514606\n"
     ]
    }
   ],
   "source": [
    "#HPT\n",
    "alist= np.logspace(-4, 0, num=20)\n",
    "ridge_reg_pipeline= Pipeline([(\"poly\", PolynomialFeatures(degree=2)),\n",
    "                             (\"feature_scaling\", StandardScaler()),\n",
    "                             (\"ridge_cv\",RidgeCV(alphas=alist,cv=cv,\n",
    "                                                scoring=\"neg_mean_absolute_error\"))])\n",
    "ridge_reg_cv_results=ridge_reg_pipeline.fit(training_features, training_labels)\n",
    "print (\"The best value for alpha:\", ridge_reg_cv_results[-1].alpha_)"
   ]
  },
  {
   "cell_type": "code",
   "execution_count": 16,
   "id": "ec40bd32",
   "metadata": {},
   "outputs": [
    {
     "name": "stdout",
     "output_type": "stream",
     "text": [
      "Mean absolute error of ridge regression model on the train set:\n",
      "0.470 +/- 0.011\n",
      "Mean absolute error of ridge regression model on the test set:\n",
      "0.474 +/- 0.011\n",
      "The mean optimal alpha leading to the best generalization performance is:\n",
      "0.26 +/- 0.38\n"
     ]
    }
   ],
   "source": [
    "alpha_list = np.logspace(-4, 0, num=20)\n",
    "ridge_reg_pipeline = Pipeline([(\"poly\", PolynomialFeatures(degree=2)),\n",
    "                              (\"feature_scaling\", StandardScaler()),\n",
    "                              (\"ridge_cv\", RidgeCV(alphas=alpha_list,\n",
    "                                                   store_cv_values=True))])\n",
    "ridge_reg_cv_results = cross_validate(ridge_reg_pipeline,\n",
    "                                    training_features,\n",
    "                                    training_labels,\n",
    "                                    cv=cv,\n",
    "                                    scoring=\"neg_mean_absolute_error\",\n",
    "                                    return_train_score=True,\n",
    "                                    return_estimator=True)\n",
    "\n",
    "ridge_reg_train_error = -1 * ridge_reg_cv_results['train_score']\n",
    "ridge_reg_test_error = -1 * ridge_reg_cv_results['test_score']\n",
    "best_alphas = [est[-1].alpha_ for est in ridge_reg_cv_results[\"estimator\"]]\n",
    "\n",
    "print(f\"Mean absolute error of ridge regression model on the train set:\\n\"\n",
    "      f\"{ridge_reg_train_error.mean():.3f} +/- {ridge_reg_train_error.std():.3f}\")\n",
    "print(f\"Mean absolute error of ridge regression model on the test set:\\n\"\n",
    "      f\"{ridge_reg_test_error.mean():.3f} +/- {ridge_reg_test_error.std():.3f}\")\n",
    "print(f\"The mean optimal alpha leading to the best generalization performance is:\\n\"\n",
    "      f\"{np.mean(best_alphas):.2f} +/- {np.std(best_alphas):.2f}\")"
   ]
  },
  {
   "cell_type": "code",
   "execution_count": 18,
   "id": "f334890b",
   "metadata": {},
   "outputs": [
    {
     "name": "stdout",
     "output_type": "stream",
     "text": [
      "The best parameter value is: {'poly__degree': 2, 'ridge__alpha': 0.007847599703514606}\n"
     ]
    }
   ],
   "source": [
    "ridge_grid_pipeline = Pipeline([(\"poly\", PolynomialFeatures(degree=2)),\n",
    "                              (\"feature_scaling\", StandardScaler()),\n",
    "                              (\"ridge\", Ridge())])\n",
    "\n",
    "param_grid = {'poly__degree': (1, 2, 3),\n",
    "              'ridge__alpha': np.logspace(-4, 0, num=20)}\n",
    "ridge_grid_search = GridSearchCV(ridge_grid_pipeline,\n",
    "                                 param_grid=param_grid,\n",
    "                                 n_jobs=2,\n",
    "                                 cv=cv,\n",
    "                                 scoring=\"neg_mean_absolute_error\",\n",
    "                                 return_train_score=True)\n",
    "ridge_grid_search.fit(training_features, training_labels)\n",
    "print (\"The best parameter value is:\", ridge_grid_search.best_params_)"
   ]
  },
  {
   "cell_type": "code",
   "execution_count": null,
   "id": "fc30e859",
   "metadata": {},
   "outputs": [],
   "source": []
  }
 ],
 "metadata": {
  "kernelspec": {
   "display_name": "Python 3",
   "language": "python",
   "name": "python3"
  },
  "language_info": {
   "codemirror_mode": {
    "name": "ipython",
    "version": 3
   },
   "file_extension": ".py",
   "mimetype": "text/x-python",
   "name": "python",
   "nbconvert_exporter": "python",
   "pygments_lexer": "ipython3",
   "version": "3.8.8"
  }
 },
 "nbformat": 4,
 "nbformat_minor": 5
}
