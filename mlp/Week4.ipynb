{
 "cells": [
  {
   "cell_type": "code",
   "execution_count": 3,
   "id": "2889f43d",
   "metadata": {},
   "outputs": [
    {
     "name": "stdout",
     "output_type": "stream",
     "text": [
      "(20640, 8) (20640,)\n",
      "(16512, 8) (16512,)\n"
     ]
    }
   ],
   "source": [
    "from sklearn.datasets import fetch_california_housing\n",
    "from sklearn.linear_model import LinearRegression, SGDRegressor\n",
    "from sklearn.model_selection import cross_validate, cross_val_predict, train_test_split\n",
    "from sklearn.metrics import mean_squared_error\n",
    "from sklearn.pipeline import Pipeline\n",
    "from sklearn.preprocessing import StandardScaler\n",
    "from sklearn.metrics import explained_variance_score, max_error, mean_absolute_error\n",
    "X, y= fetch_california_housing(as_frame=True, return_X_y=True)\n",
    "print(X.shape , y.shape)\n",
    "X_train,X_test,y_train,y_test= train_test_split(X,y, test_size=0.2, shuffle=False, random_state=0)\n",
    "print(X_train.shape, y_train.shape)"
   ]
  },
  {
   "cell_type": "code",
   "execution_count": 2,
   "id": "9f37ba3f",
   "metadata": {},
   "outputs": [
    {
     "name": "stdout",
     "output_type": "stream",
     "text": [
      "Explained Variance Score: 0.5865441932522455\n",
      "Max Error: 6.003031229014606\n",
      "Mean Absolute Error: 0.5648458542211933\n",
      "Mean Squared Error: 0.6062266128011407\n"
     ]
    }
   ],
   "source": [
    "lin_reg_pipeline=Pipeline([(\"feature_scaling\", StandardScaler()),\n",
    "                           (\"lin_reg\",LinearRegression())])\n",
    "lin_reg_pipeline.fit(X_train,y_train)\n",
    "#checking learned weights\n",
    "#print(\"intercept w0\", lin_reg_pipeline[-1].intercept_)\n",
    "#print(\"weight vector(w1...wn)\", lin_reg_pipeline[-1].coef_)\n",
    "y_pred=lin_reg_pipeline.predict(X_test)\n",
    "y_pred = y_pred.reshape(-1, 1)\n",
    "#lin_reg_score=lin_reg_pipeline.score(X_test,y_test)\n",
    "#lin_reg_score=lin_reg_pipeline.score(y_test,y_pred)\n",
    "score2=mean_squared_error(y_test, y_pred, squared=False)\n",
    "#print(lin_reg_score,score2)\n",
    "explained_variance = explained_variance_score(y_test, y_pred)\n",
    "max_err = max_error(y_test, y_pred)\n",
    "mean_abs_err = mean_absolute_error(y_test, y_pred)\n",
    "mean_sqr_err = mean_squared_error(y_test, y_pred)\n",
    "\n",
    "# Print the evaluation metrics\n",
    "print(f'Explained Variance Score: {explained_variance}')\n",
    "print(f'Max Error: {max_err}')\n",
    "print(f'Mean Absolute Error: {mean_abs_err}')\n",
    "print(f'Mean Squared Error: {mean_sqr_err}')"
   ]
  },
  {
   "cell_type": "code",
   "execution_count": 15,
   "id": "61ceb7f0",
   "metadata": {},
   "outputs": [
    {
     "name": "stdout",
     "output_type": "stream",
     "text": [
      "Bias term: [2.01123921]\n",
      "Coefficients: [ 0.84046697  0.112331   -0.41213039  0.21595971 -0.01781887 -0.01480892\n",
      " -0.87394103 -0.83913104]\n"
     ]
    }
   ],
   "source": [
    "X_train,X_test,y_train,y_test= train_test_split(X,y, test_size=0.2, shuffle=False, random_state=0)\n",
    "X_train=StandardScaler().fit_transform(X_train)\n",
    "sgd_reg = SGDRegressor(random_state=0)\n",
    "sgd_reg.fit(X_train, y_train)\n",
    "\n",
    "bias_term = sgd_reg.intercept_\n",
    "coefficients = sgd_reg.coef_\n",
    "\n",
    "print(f'Bias term: {bias_term}')\n",
    "print(f'Coefficients: {coefficients}')"
   ]
  },
  {
   "cell_type": "code",
   "execution_count": null,
   "id": "edeab70c",
   "metadata": {},
   "outputs": [],
   "source": []
  }
 ],
 "metadata": {
  "kernelspec": {
   "display_name": "Python 3",
   "language": "python",
   "name": "python3"
  },
  "language_info": {
   "codemirror_mode": {
    "name": "ipython",
    "version": 3
   },
   "file_extension": ".py",
   "mimetype": "text/x-python",
   "name": "python",
   "nbconvert_exporter": "python",
   "pygments_lexer": "ipython3",
   "version": "3.8.8"
  }
 },
 "nbformat": 4,
 "nbformat_minor": 5
}
