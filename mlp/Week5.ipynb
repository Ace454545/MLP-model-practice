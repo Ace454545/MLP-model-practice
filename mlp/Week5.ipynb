{
 "cells": [
  {
   "cell_type": "code",
   "execution_count": 8,
   "id": "4ad391c2",
   "metadata": {},
   "outputs": [],
   "source": [
    "from sklearn.datasets import fetch_california_housing\n",
    "x,y=fetch_california_housing(as_frame=True, return_X_y=True)\n",
    "\n"
   ]
  },
  {
   "cell_type": "code",
   "execution_count": 5,
   "id": "7cb4b5f9",
   "metadata": {},
   "outputs": [],
   "source": [
    "import numpy as np\n",
    "import pandas as pd\n",
    "import matplotlib.pyplot as plt\n",
    "import seaborn as sns\n",
    "from scipy.stats import loguniform,uniform\n",
    "from sklearn.linear_model import LinearRegression,Lasso,LassoCV,Ridge,RidgeCV,SGDRegressor\n",
    "from sklearn.metrics import mean_squared_error,mean_absolute_percentage_error,mean_absolute_error\n",
    "from sklearn.model_selection import cross_val_score,cross_validate,train_test_split,ShuffleSplit,validation_curve,GridSearchCV,RandomizedSearchCV\n",
    "from sklearn.preprocessing import PolynomialFeatures, StandardScaler\n",
    "from sklearn.pipeline import Pipeline"
   ]
  },
  {
   "cell_type": "code",
   "execution_count": 15,
   "id": "07c5d853",
   "metadata": {},
   "outputs": [
    {
     "name": "stdout",
     "output_type": "stream",
     "text": [
      "{'alpha': 0.005, 'fit_intercept': True} 0.5999305293842084\n",
      "The mean squared error on the test data is 0.5239756396603085\n"
     ]
    }
   ],
   "source": [
    "x_train,x_test,y_train,y_test=train_test_split(x,y,test_size=0.4,random_state=1)\n",
    "scaler = StandardScaler(with_mean=True, with_std=True)\n",
    "x_train_norm = scaler.fit_transform(x_train)\n",
    "x_test_norm = scaler.transform(x_test)\n",
    "'''param_grid = {\n",
    "    'loss': ['squared_loss', 'huber'],\n",
    "    'penalty': ['l1', 'l2'],\n",
    "    'alpha': [0.1, 0.01, 0.001],\n",
    "    'max_iter': [1000, 2000, 5000]\n",
    "}\n",
    "\n",
    "param_grid = {\n",
    "    'alpha': [0.5, 0.1, 0.05, 0.01, 0.005, 0.001],\n",
    "    'fit_intercept': [True, False]\n",
    "}\n",
    "ridge = Ridge()\n",
    "sgd = SGDRegressor(random_state=1)\n",
    "grid_search = GridSearchCV(sgd, param_grid, cv=4)\n",
    "grid_search = GridSearchCV(ridge, param_grid, cv=4)'''\n",
    "param_grid = {\n",
    "    'alpha': [0.5, 0.1, 0.05, 0.01, 0.005, 0.001],\n",
    "    'fit_intercept': [True, False]\n",
    "}\n",
    "lasso = Lasso()\n",
    "grid_search = GridSearchCV(lasso, param_grid, cv=6)\n",
    "grid_search.fit(x_train_norm, y_train)\n",
    "y_pred = grid_search.predict(x_test_norm)\n",
    "score = mean_squared_error(y_test, y_pred)\n",
    "print(grid_search.best_params_,grid_search.best_score_)\n",
    "print(f\"The mean squared error on the test data is {score}\")\n",
    "#cv=ShuffleSplit(n_splits=4,test_size=0.3,random_state=1)"
   ]
  },
  {
   "cell_type": "code",
   "execution_count": null,
   "id": "7039b59e",
   "metadata": {},
   "outputs": [],
   "source": [
    "'''sgd_reg_pipeline=Pipeline([(\"feature_scaling\",StandardScaler(with_mean = True,with_std = True)),\n",
    "                          (\"sgd_reg\", SGDRegressor(random_state = 1,\n",
    "                          ))])'''"
   ]
  }
 ],
 "metadata": {
  "kernelspec": {
   "display_name": "Python 3",
   "language": "python",
   "name": "python3"
  },
  "language_info": {
   "codemirror_mode": {
    "name": "ipython",
    "version": 3
   },
   "file_extension": ".py",
   "mimetype": "text/x-python",
   "name": "python",
   "nbconvert_exporter": "python",
   "pygments_lexer": "ipython3",
   "version": "3.8.8"
  }
 },
 "nbformat": 4,
 "nbformat_minor": 5
}
